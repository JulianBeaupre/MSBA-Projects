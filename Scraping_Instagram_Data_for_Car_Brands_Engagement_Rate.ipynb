{
  "nbformat": 4,
  "nbformat_minor": 0,
  "metadata": {
    "colab": {
      "name": "Scraping Instagram Data for Car Brands - Engagement Rate",
      "provenance": [],
      "collapsed_sections": []
    },
    "kernelspec": {
      "name": "python3",
      "display_name": "Python 3"
    }
  },
  "cells": [
    {
      "cell_type": "markdown",
      "metadata": {
        "id": "SWRV7wrbmlzT",
        "colab_type": "text"
      },
      "source": [
        "##ANSWERS TO QUESTIONS (CODE BELOW)"
      ]
    },
    {
      "cell_type": "markdown",
      "metadata": {
        "id": "HN-9Z9Cimr7L",
        "colab_type": "text"
      },
      "source": [
        "- After calculating engagement rates for each brand, I can conclude that dodgeofficial, volvocars, and ford had the highest average post engagement rate out of all the brands. "
      ]
    },
    {
      "cell_type": "markdown",
      "metadata": {
        "id": "HV-QxuLOnFCZ",
        "colab_type": "text"
      },
      "source": [
        "- Honda has the lowest average post engagment rate out of all the brands.\n",
        "- Engagement rate in descending order : Dodge = 2.12%, Volvo = 1.38%, Ford = 1.36%, Chevrolet = 1.08%, Honda = 0.42%."
      ]
    },
    {
      "cell_type": "code",
      "metadata": {
        "id": "bf_2NFSFGrCG",
        "colab_type": "code",
        "colab": {
          "base_uri": "https://localhost:8080/",
          "height": 136
        },
        "outputId": "16c7670b-964a-4a02-ee8b-d3895f6aadf3"
      },
      "source": [
        "!pip install instagram-scraper "
      ],
      "execution_count": null,
      "outputs": [
        {
          "output_type": "stream",
          "text": [
            "Requirement already satisfied: instagram-scraper in /usr/local/lib/python3.6/dist-packages (1.8.1)\n",
            "Requirement already satisfied: requests>=2.18.4 in /usr/local/lib/python3.6/dist-packages (from instagram-scraper) (2.21.0)\n",
            "Requirement already satisfied: tqdm>=3.8.0 in /usr/local/lib/python3.6/dist-packages (from instagram-scraper) (4.28.1)\n",
            "Requirement already satisfied: certifi>=2017.4.17 in /usr/local/lib/python3.6/dist-packages (from requests>=2.18.4->instagram-scraper) (2019.11.28)\n",
            "Requirement already satisfied: idna<2.9,>=2.5 in /usr/local/lib/python3.6/dist-packages (from requests>=2.18.4->instagram-scraper) (2.8)\n",
            "Requirement already satisfied: urllib3<1.25,>=1.21.1 in /usr/local/lib/python3.6/dist-packages (from requests>=2.18.4->instagram-scraper) (1.24.3)\n",
            "Requirement already satisfied: chardet<3.1.0,>=3.0.2 in /usr/local/lib/python3.6/dist-packages (from requests>=2.18.4->instagram-scraper) (3.0.4)\n"
          ],
          "name": "stdout"
        }
      ]
    },
    {
      "cell_type": "markdown",
      "metadata": {
        "id": "RHfhhnQEM3IC",
        "colab_type": "text"
      },
      "source": [
        "##SCRAPE DATA FOR CAR COMPANIES"
      ]
    },
    {
      "cell_type": "markdown",
      "metadata": {
        "id": "Tn3eKVdzM7IN",
        "colab_type": "text"
      },
      "source": [
        "HONDA"
      ]
    },
    {
      "cell_type": "code",
      "metadata": {
        "id": "WKkmgKMxG1sK",
        "colab_type": "code",
        "colab": {
          "base_uri": "https://localhost:8080/",
          "height": 309
        },
        "outputId": "1514d263-b7f5-4185-a465-9c4397010391"
      },
      "source": [
        "!instagram-scraper honda --media-metadata -m 200 -d 'drive/My Drive/Colab Notebooks/Vargo3/instagram'"
      ],
      "execution_count": null,
      "outputs": [
        {
          "output_type": "stream",
          "text": [
            "Searching honda for profile pic: 100% 1/1 [00:00<00:00, 1865.79 images/s]\n",
            "Searching honda for posts: 151 media [00:35,  3.15s/ media]\n",
            "Downloading:   0%|          | 0/201 [00:00<?, ?it/s]\u001b[A\n",
            "Downloading: 100%|##########| 201/201 [00:00<00:00, 9218.25it/s]\u001b[AException ignored in: <bound method tqdm.__del__ of Searching honda for posts: 151 media [00:35,  3.15s/ media]>\n",
            "Traceback (most recent call last):\n",
            "  File \"/usr/local/lib/python3.6/dist-packages/tqdm/_tqdm.py\", line 931, in __del__\n",
            "    self.close()\n",
            "  File \"/usr/local/lib/python3.6/dist-packages/tqdm/_tqdm.py\", line 1133, in close\n",
            "    self._decr_instances(self)\n",
            "  File \"/usr/local/lib/python3.6/dist-packages/tqdm/_tqdm.py\", line 496, in _decr_instances\n",
            "    cls.monitor.exit()\n",
            "  File \"/usr/local/lib/python3.6/dist-packages/tqdm/_monitor.py\", line 52, in exit\n",
            "    self.join()\n",
            "  File \"/usr/lib/python3.6/threading.py\", line 1053, in join\n",
            "    raise RuntimeError(\"cannot join current thread\")\n",
            "RuntimeError: cannot join current thread\n"
          ],
          "name": "stdout"
        }
      ]
    },
    {
      "cell_type": "markdown",
      "metadata": {
        "id": "C0-hTJKAM9JH",
        "colab_type": "text"
      },
      "source": [
        "VOLVO"
      ]
    },
    {
      "cell_type": "code",
      "metadata": {
        "id": "9JbtKN8SINGS",
        "colab_type": "code",
        "colab": {
          "base_uri": "https://localhost:8080/",
          "height": 309
        },
        "outputId": "0aba69af-f4e8-4fa3-c402-465a045ce713"
      },
      "source": [
        "!instagram-scraper volvocars --media-metadata -m 200 -d 'drive/My Drive/Colab Notebooks/Vargo3/instagram'"
      ],
      "execution_count": null,
      "outputs": [
        {
          "output_type": "stream",
          "text": [
            "Searching volvocars for profile pic: 100% 1/1 [00:00<00:00, 1945.41 images/s]\n",
            "Searching volvocars for posts: 151 media [00:41,  4.13s/ media]\n",
            "Downloading:   0%|          | 0/201 [00:00<?, ?it/s]\u001b[A\n",
            "Downloading: 100%|##########| 201/201 [00:00<00:00, 6031.26it/s]\u001b[AException ignored in: <bound method tqdm.__del__ of Searching volvocars for posts: 151 media [00:41,  4.13s/ media]>\n",
            "Traceback (most recent call last):\n",
            "  File \"/usr/local/lib/python3.6/dist-packages/tqdm/_tqdm.py\", line 931, in __del__\n",
            "    self.close()\n",
            "  File \"/usr/local/lib/python3.6/dist-packages/tqdm/_tqdm.py\", line 1133, in close\n",
            "    self._decr_instances(self)\n",
            "  File \"/usr/local/lib/python3.6/dist-packages/tqdm/_tqdm.py\", line 496, in _decr_instances\n",
            "    cls.monitor.exit()\n",
            "  File \"/usr/local/lib/python3.6/dist-packages/tqdm/_monitor.py\", line 52, in exit\n",
            "    self.join()\n",
            "  File \"/usr/lib/python3.6/threading.py\", line 1053, in join\n",
            "    raise RuntimeError(\"cannot join current thread\")\n",
            "RuntimeError: cannot join current thread\n"
          ],
          "name": "stdout"
        }
      ]
    },
    {
      "cell_type": "markdown",
      "metadata": {
        "id": "ZrsPv81xM_dF",
        "colab_type": "text"
      },
      "source": [
        "DODGE"
      ]
    },
    {
      "cell_type": "code",
      "metadata": {
        "id": "BdWAagslKFrS",
        "colab_type": "code",
        "colab": {
          "base_uri": "https://localhost:8080/",
          "height": 309
        },
        "outputId": "b9824c9a-c805-4332-859c-3b1a4065f3c4"
      },
      "source": [
        "!instagram-scraper dodgeofficial --media-metadata -m 200 -d 'drive/My Drive/Colab Notebooks/Vargo3/instagram'"
      ],
      "execution_count": null,
      "outputs": [
        {
          "output_type": "stream",
          "text": [
            "Searching dodgeofficial for profile pic: 100% 1/1 [00:00<00:00, 1332.37 images/s]\n",
            "Searching dodgeofficial for posts: 151 media [00:20,  1.81s/ media]\n",
            "Downloading:   0%|          | 0/201 [00:00<?, ?it/s]\u001b[A\n",
            "Downloading: 100%|##########| 201/201 [00:00<00:00, 7985.29it/s]\u001b[AException ignored in: <bound method tqdm.__del__ of Searching dodgeofficial for posts: 151 media [00:20,  1.81s/ media]>\n",
            "Traceback (most recent call last):\n",
            "  File \"/usr/local/lib/python3.6/dist-packages/tqdm/_tqdm.py\", line 931, in __del__\n",
            "    self.close()\n",
            "  File \"/usr/local/lib/python3.6/dist-packages/tqdm/_tqdm.py\", line 1133, in close\n",
            "    self._decr_instances(self)\n",
            "  File \"/usr/local/lib/python3.6/dist-packages/tqdm/_tqdm.py\", line 496, in _decr_instances\n",
            "    cls.monitor.exit()\n",
            "  File \"/usr/local/lib/python3.6/dist-packages/tqdm/_monitor.py\", line 52, in exit\n",
            "    self.join()\n",
            "  File \"/usr/lib/python3.6/threading.py\", line 1053, in join\n",
            "    raise RuntimeError(\"cannot join current thread\")\n",
            "RuntimeError: cannot join current thread\n"
          ],
          "name": "stdout"
        }
      ]
    },
    {
      "cell_type": "markdown",
      "metadata": {
        "id": "AtAwMPFBNBNa",
        "colab_type": "text"
      },
      "source": [
        "CHEVROLET"
      ]
    },
    {
      "cell_type": "code",
      "metadata": {
        "id": "DxbQDnFALsgl",
        "colab_type": "code",
        "colab": {
          "base_uri": "https://localhost:8080/",
          "height": 309
        },
        "outputId": "250e7496-6568-4ccd-cea3-aa9acb915633"
      },
      "source": [
        "!instagram-scraper chevrolet --media-metadata -m 200 -d 'drive/My Drive/Colab Notebooks/Vargo3/instagram'"
      ],
      "execution_count": null,
      "outputs": [
        {
          "output_type": "stream",
          "text": [
            "Searching chevrolet for profile pic: 100% 1/1 [00:00<00:00, 2128.01 images/s]\n",
            "Searching chevrolet for posts: 151 media [00:16,  1.13s/ media]\n",
            "Downloading:   0%|          | 0/201 [00:00<?, ?it/s]\u001b[A\n",
            "Downloading: 100%|##########| 201/201 [00:00<00:00, 9395.15it/s]\u001b[AException ignored in: <bound method tqdm.__del__ of Searching chevrolet for posts: 151 media [00:16,  1.13s/ media]>\n",
            "Traceback (most recent call last):\n",
            "  File \"/usr/local/lib/python3.6/dist-packages/tqdm/_tqdm.py\", line 931, in __del__\n",
            "    self.close()\n",
            "  File \"/usr/local/lib/python3.6/dist-packages/tqdm/_tqdm.py\", line 1133, in close\n",
            "    self._decr_instances(self)\n",
            "  File \"/usr/local/lib/python3.6/dist-packages/tqdm/_tqdm.py\", line 496, in _decr_instances\n",
            "    cls.monitor.exit()\n",
            "  File \"/usr/local/lib/python3.6/dist-packages/tqdm/_monitor.py\", line 52, in exit\n",
            "    self.join()\n",
            "  File \"/usr/lib/python3.6/threading.py\", line 1053, in join\n",
            "    raise RuntimeError(\"cannot join current thread\")\n",
            "RuntimeError: cannot join current thread\n"
          ],
          "name": "stdout"
        }
      ]
    },
    {
      "cell_type": "markdown",
      "metadata": {
        "id": "4yz35ocCNDPM",
        "colab_type": "text"
      },
      "source": [
        "FORD"
      ]
    },
    {
      "cell_type": "code",
      "metadata": {
        "id": "wmcPjGXaLxFu",
        "colab_type": "code",
        "colab": {
          "base_uri": "https://localhost:8080/",
          "height": 343
        },
        "outputId": "ea0a78c1-6487-4505-a671-74cf51222d60"
      },
      "source": [
        "!instagram-scraper ford --media-metadata -m 200 -d 'drive/My Drive/Colab Notebooks/Vargo3/instagram'"
      ],
      "execution_count": null,
      "outputs": [
        {
          "output_type": "stream",
          "text": [
            "Searching ford for profile pic: 100% 1/1 [00:00<00:00, 1332.79 images/s]\n",
            "Searching ford for posts: 151 media [00:18,  2.22s/ media]\n",
            "Downloading:   0%|          | 0/201 [00:00<?, ?it/s]\u001b[A\n",
            "Downloading:  76%|#######5  | 152/201 [00:00<00:00, 1111.66it/s]\u001b[A\n",
            "Downloading:  93%|#########2| 186/201 [00:01<00:00, 90.53it/s]  \u001b[A\n",
            "Downloading: 100%|##########| 201/201 [00:01<00:00, 122.54it/s]\u001b[AException ignored in: <bound method tqdm.__del__ of Searching ford for posts: 151 media [00:20,  2.22s/ media]>\n",
            "Traceback (most recent call last):\n",
            "  File \"/usr/local/lib/python3.6/dist-packages/tqdm/_tqdm.py\", line 931, in __del__\n",
            "    self.close()\n",
            "  File \"/usr/local/lib/python3.6/dist-packages/tqdm/_tqdm.py\", line 1133, in close\n",
            "    self._decr_instances(self)\n",
            "  File \"/usr/local/lib/python3.6/dist-packages/tqdm/_tqdm.py\", line 496, in _decr_instances\n",
            "    cls.monitor.exit()\n",
            "  File \"/usr/local/lib/python3.6/dist-packages/tqdm/_monitor.py\", line 52, in exit\n",
            "    self.join()\n",
            "  File \"/usr/lib/python3.6/threading.py\", line 1053, in join\n",
            "    raise RuntimeError(\"cannot join current thread\")\n",
            "RuntimeError: cannot join current thread\n"
          ],
          "name": "stdout"
        }
      ]
    },
    {
      "cell_type": "markdown",
      "metadata": {
        "id": "sVhoRduONkgf",
        "colab_type": "text"
      },
      "source": [
        "##CONVERT JSON INTO PANDAS DATAFRAME"
      ]
    },
    {
      "cell_type": "code",
      "metadata": {
        "id": "sjwsYmorQLbb",
        "colab_type": "code",
        "colab": {
          "base_uri": "https://localhost:8080/",
          "height": 102
        },
        "outputId": "b6be7409-439f-4336-bdec-19bbf3bb889a"
      },
      "source": [
        "import glob\n",
        "import json\n",
        "import datetime\n",
        "import csv\n",
        " \n",
        "jsonfiles = glob.glob('*drive/My Drive/Colab Notebooks/Vargo3/instagram/*.json')\n",
        " \n",
        "for afile in jsonfiles:\n",
        "    print(afile)\n",
        "    outputfile = open('%s.csv' % (afile[:-5]), 'w')\n",
        "     \n",
        "    csvwriter = csv.writer(outputfile)\n",
        "     \n",
        "    jsonfile = open(afile, 'r')\n",
        "    parsedjson = json.load(jsonfile)\n",
        "    instagramposts = {}\n",
        "     \n",
        "    metadata = {}\n",
        "    metadata['is_video'] = \"Photo\"\n",
        "    metadata['display_url'] = \"\"\n",
        "    metadata['caption'] = \"\"\n",
        "    metadata['like count'] = \"\"\n",
        "    metadata['comment count'] = \"\"\n",
        "    metadata['tags'] = \"\"\n",
        "    metadata['time'] = \"\"\n",
        "    header = list(metadata.keys())\n",
        "    csvwriter.writerows([header])\n",
        "     \n",
        "    for apost in parsedjson['GraphImages']:    \n",
        " \n",
        "        metadata = {}\n",
        "        metadata['is_video'] = \"Photo\"\n",
        "        metadata['display_url'] = \"\"\n",
        "        metadata['caption'] = \"\"\n",
        "        metadata['like count'] = \"\"\n",
        "        metadata['comment count'] = \"\"\n",
        "        metadata['tags'] = \"\"\n",
        "        metadata['time'] = \"\"\n",
        "         \n",
        "        if 'edge_media_to_caption' in apost:\n",
        "            if 'edges' in apost['edge_media_to_caption']:\n",
        "                edges = apost['edge_media_to_caption']['edges']\n",
        "                if len(edges) > 0:\n",
        "    #                    print(\"woo\")\n",
        "                    metadata['caption'] = apost['edge_media_to_caption']['edges'][0]['node']['text']\n",
        "            if 'edge_media_preview_like' in apost:\n",
        "                if 'count' in apost['edge_media_preview_like']:\n",
        "                    metadata['like count'] = apost['edge_media_preview_like']['count']\n",
        "            if 'edge_media_to_comment' in apost:\n",
        "                if 'count' in apost['edge_media_to_comment']:\n",
        "                    metadata['comment count'] = apost['edge_media_to_comment']['count']\n",
        "            if 'tags' in apost:\n",
        "                metadata['tags'] = apost['tags']\n",
        "                     \n",
        "            metadata['time'] = datetime.datetime.fromtimestamp(int(apost['taken_at_timestamp'])).strftime('%Y-%m-%d %H:%M')\n",
        "            metadata['display_url'] = apost['display_url']\n",
        "            if apost['is_video'] == True:\n",
        "                metadata['is_video'] = \"Video\"\n",
        "      \n",
        "            row = []\n",
        "            for anitem in metadata:\n",
        "                row.append(metadata[anitem])\n",
        "            csvwriter.writerow(row)\n",
        "             \n",
        "    outputfile.close()"
      ],
      "execution_count": null,
      "outputs": [
        {
          "output_type": "stream",
          "text": [
            "drive/My Drive/Colab Notebooks/Vargo3/instagram/ford.json\n",
            "drive/My Drive/Colab Notebooks/Vargo3/instagram/honda.json\n",
            "drive/My Drive/Colab Notebooks/Vargo3/instagram/volvocars.json\n",
            "drive/My Drive/Colab Notebooks/Vargo3/instagram/dodgeofficial.json\n",
            "drive/My Drive/Colab Notebooks/Vargo3/instagram/chevrolet.json\n"
          ],
          "name": "stdout"
        }
      ]
    },
    {
      "cell_type": "markdown",
      "metadata": {
        "id": "snG9m14tUXf2",
        "colab_type": "text"
      },
      "source": [
        "##IMPORT CSV FILES AND CALCULATE AVERAGE POST ENGAGEMENT RATE FOR EACH BRAND"
      ]
    },
    {
      "cell_type": "markdown",
      "metadata": {
        "id": "9Dp27UnXUztq",
        "colab_type": "text"
      },
      "source": [
        "HONDA"
      ]
    },
    {
      "cell_type": "code",
      "metadata": {
        "id": "sEi7f8B3U2SP",
        "colab_type": "code",
        "colab": {
          "resources": {
            "http://localhost:8080/nbextensions/google.colab/files.js": {
              "data": "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",
              "ok": true,
              "headers": [
                [
                  "content-type",
                  "application/javascript"
                ]
              ],
              "status": 200,
              "status_text": ""
            }
          },
          "base_uri": "https://localhost:8080/",
          "height": 71
        },
        "outputId": "c0a09e8d-6cfb-4ede-fc63-1ab828bf4d19"
      },
      "source": [
        "from google.colab import files\n",
        "uploaded = files.upload()"
      ],
      "execution_count": null,
      "outputs": [
        {
          "output_type": "display_data",
          "data": {
            "text/html": [
              "\n",
              "     <input type=\"file\" id=\"files-f2cf761d-2f0d-4cab-be93-5b8686167644\" name=\"files[]\" multiple disabled />\n",
              "     <output id=\"result-f2cf761d-2f0d-4cab-be93-5b8686167644\">\n",
              "      Upload widget is only available when the cell has been executed in the\n",
              "      current browser session. Please rerun this cell to enable.\n",
              "      </output>\n",
              "      <script src=\"/nbextensions/google.colab/files.js\"></script> "
            ],
            "text/plain": [
              "<IPython.core.display.HTML object>"
            ]
          },
          "metadata": {
            "tags": []
          }
        },
        {
          "output_type": "stream",
          "text": [
            "Saving honda.csv to honda.csv\n"
          ],
          "name": "stdout"
        }
      ]
    },
    {
      "cell_type": "code",
      "metadata": {
        "id": "F-lAZs3Tdzqc",
        "colab_type": "code",
        "colab": {
          "base_uri": "https://localhost:8080/",
          "height": 204
        },
        "outputId": "eeb3eca6-a1f7-463a-a4ed-9d34865115bc"
      },
      "source": [
        "import pandas as pd\n",
        "import io\n",
        "\n",
        "df = pd.read_csv(io.StringIO(uploaded['honda.csv'].decode('utf-8')))\n",
        "df.head()"
      ],
      "execution_count": null,
      "outputs": [
        {
          "output_type": "execute_result",
          "data": {
            "text/html": [
              "<div>\n",
              "<style scoped>\n",
              "    .dataframe tbody tr th:only-of-type {\n",
              "        vertical-align: middle;\n",
              "    }\n",
              "\n",
              "    .dataframe tbody tr th {\n",
              "        vertical-align: top;\n",
              "    }\n",
              "\n",
              "    .dataframe thead th {\n",
              "        text-align: right;\n",
              "    }\n",
              "</style>\n",
              "<table border=\"1\" class=\"dataframe\">\n",
              "  <thead>\n",
              "    <tr style=\"text-align: right;\">\n",
              "      <th></th>\n",
              "      <th>is_video</th>\n",
              "      <th>display_url</th>\n",
              "      <th>caption</th>\n",
              "      <th>like count</th>\n",
              "      <th>comment count</th>\n",
              "      <th>tags</th>\n",
              "      <th>time</th>\n",
              "    </tr>\n",
              "  </thead>\n",
              "  <tbody>\n",
              "    <tr>\n",
              "      <th>0</th>\n",
              "      <td>Photo</td>\n",
              "      <td>https://scontent-ort2-1.cdninstagram.com/v/t51...</td>\n",
              "      <td>Snow shouldn’t stop your road trips in the #Ho...</td>\n",
              "      <td>17040</td>\n",
              "      <td>86</td>\n",
              "      <td>['HondaPilot']</td>\n",
              "      <td>2020-02-16 18:00</td>\n",
              "    </tr>\n",
              "    <tr>\n",
              "      <th>1</th>\n",
              "      <td>Video</td>\n",
              "      <td>https://scontent-ort2-1.cdninstagram.com/v/t51...</td>\n",
              "      <td>These #HondaLove fans have a special place in ...</td>\n",
              "      <td>4256</td>\n",
              "      <td>31</td>\n",
              "      <td>['HondaLove']</td>\n",
              "      <td>2020-02-14 14:00</td>\n",
              "    </tr>\n",
              "    <tr>\n",
              "      <th>2</th>\n",
              "      <td>Photo</td>\n",
              "      <td>https://scontent-ort2-1.cdninstagram.com/v/t51...</td>\n",
              "      <td>We’re ringing in our 50th anniversary of Ameri...</td>\n",
              "      <td>14934</td>\n",
              "      <td>65</td>\n",
              "      <td>[]</td>\n",
              "      <td>2020-02-14 01:27</td>\n",
              "    </tr>\n",
              "    <tr>\n",
              "      <th>3</th>\n",
              "      <td>Video</td>\n",
              "      <td>https://scontent-ort2-1.cdninstagram.com/v/t51...</td>\n",
              "      <td>50 years ago, our first continental US auto de...</td>\n",
              "      <td>5111</td>\n",
              "      <td>51</td>\n",
              "      <td>[]</td>\n",
              "      <td>2020-02-11 17:00</td>\n",
              "    </tr>\n",
              "    <tr>\n",
              "      <th>4</th>\n",
              "      <td>Photo</td>\n",
              "      <td>https://scontent-ort2-1.cdninstagram.com/v/t51...</td>\n",
              "      <td>It’s time to profess some #HondaLove. We’re 💞 ...</td>\n",
              "      <td>12271</td>\n",
              "      <td>728</td>\n",
              "      <td>['HondaLove']</td>\n",
              "      <td>2020-02-10 18:58</td>\n",
              "    </tr>\n",
              "  </tbody>\n",
              "</table>\n",
              "</div>"
            ],
            "text/plain": [
              "  is_video  ...              time\n",
              "0    Photo  ...  2020-02-16 18:00\n",
              "1    Video  ...  2020-02-14 14:00\n",
              "2    Photo  ...  2020-02-14 01:27\n",
              "3    Video  ...  2020-02-11 17:00\n",
              "4    Photo  ...  2020-02-10 18:58\n",
              "\n",
              "[5 rows x 7 columns]"
            ]
          },
          "metadata": {
            "tags": []
          },
          "execution_count": 43
        }
      ]
    },
    {
      "cell_type": "markdown",
      "metadata": {
        "id": "a3OGaor6fwYW",
        "colab_type": "text"
      },
      "source": [
        "total engagement for Honda"
      ]
    },
    {
      "cell_type": "code",
      "metadata": {
        "id": "YZuWXSmyg1VE",
        "colab_type": "code",
        "colab": {
          "base_uri": "https://localhost:8080/",
          "height": 606
        },
        "outputId": "0c01a4e7-35cb-4d3a-d65b-46e31ee40e36"
      },
      "source": [
        "df['total engagement'] = df['like count']+df['comment count']\n",
        "df['total followers'] = 4100000\n",
        "df['Eng Rate'] = df['total engagement']/df['total followers']\n",
        "df"
      ],
      "execution_count": null,
      "outputs": [
        {
          "output_type": "execute_result",
          "data": {
            "text/html": [
              "<div>\n",
              "<style scoped>\n",
              "    .dataframe tbody tr th:only-of-type {\n",
              "        vertical-align: middle;\n",
              "    }\n",
              "\n",
              "    .dataframe tbody tr th {\n",
              "        vertical-align: top;\n",
              "    }\n",
              "\n",
              "    .dataframe thead th {\n",
              "        text-align: right;\n",
              "    }\n",
              "</style>\n",
              "<table border=\"1\" class=\"dataframe\">\n",
              "  <thead>\n",
              "    <tr style=\"text-align: right;\">\n",
              "      <th></th>\n",
              "      <th>is_video</th>\n",
              "      <th>display_url</th>\n",
              "      <th>caption</th>\n",
              "      <th>like count</th>\n",
              "      <th>comment count</th>\n",
              "      <th>tags</th>\n",
              "      <th>time</th>\n",
              "      <th>total engagement</th>\n",
              "      <th>total followers</th>\n",
              "      <th>Eng Rate</th>\n",
              "    </tr>\n",
              "  </thead>\n",
              "  <tbody>\n",
              "    <tr>\n",
              "      <th>0</th>\n",
              "      <td>Photo</td>\n",
              "      <td>https://scontent-ort2-1.cdninstagram.com/v/t51...</td>\n",
              "      <td>Snow shouldn’t stop your road trips in the #Ho...</td>\n",
              "      <td>17040</td>\n",
              "      <td>86</td>\n",
              "      <td>['HondaPilot']</td>\n",
              "      <td>2020-02-16 18:00</td>\n",
              "      <td>17126</td>\n",
              "      <td>4100000</td>\n",
              "      <td>0.004177</td>\n",
              "    </tr>\n",
              "    <tr>\n",
              "      <th>1</th>\n",
              "      <td>Video</td>\n",
              "      <td>https://scontent-ort2-1.cdninstagram.com/v/t51...</td>\n",
              "      <td>These #HondaLove fans have a special place in ...</td>\n",
              "      <td>4256</td>\n",
              "      <td>31</td>\n",
              "      <td>['HondaLove']</td>\n",
              "      <td>2020-02-14 14:00</td>\n",
              "      <td>4287</td>\n",
              "      <td>4100000</td>\n",
              "      <td>0.001046</td>\n",
              "    </tr>\n",
              "    <tr>\n",
              "      <th>2</th>\n",
              "      <td>Photo</td>\n",
              "      <td>https://scontent-ort2-1.cdninstagram.com/v/t51...</td>\n",
              "      <td>We’re ringing in our 50th anniversary of Ameri...</td>\n",
              "      <td>14934</td>\n",
              "      <td>65</td>\n",
              "      <td>[]</td>\n",
              "      <td>2020-02-14 01:27</td>\n",
              "      <td>14999</td>\n",
              "      <td>4100000</td>\n",
              "      <td>0.003658</td>\n",
              "    </tr>\n",
              "    <tr>\n",
              "      <th>3</th>\n",
              "      <td>Video</td>\n",
              "      <td>https://scontent-ort2-1.cdninstagram.com/v/t51...</td>\n",
              "      <td>50 years ago, our first continental US auto de...</td>\n",
              "      <td>5111</td>\n",
              "      <td>51</td>\n",
              "      <td>[]</td>\n",
              "      <td>2020-02-11 17:00</td>\n",
              "      <td>5162</td>\n",
              "      <td>4100000</td>\n",
              "      <td>0.001259</td>\n",
              "    </tr>\n",
              "    <tr>\n",
              "      <th>4</th>\n",
              "      <td>Photo</td>\n",
              "      <td>https://scontent-ort2-1.cdninstagram.com/v/t51...</td>\n",
              "      <td>It’s time to profess some #HondaLove. We’re 💞 ...</td>\n",
              "      <td>12271</td>\n",
              "      <td>728</td>\n",
              "      <td>['HondaLove']</td>\n",
              "      <td>2020-02-10 18:58</td>\n",
              "      <td>12999</td>\n",
              "      <td>4100000</td>\n",
              "      <td>0.003170</td>\n",
              "    </tr>\n",
              "    <tr>\n",
              "      <th>...</th>\n",
              "      <td>...</td>\n",
              "      <td>...</td>\n",
              "      <td>...</td>\n",
              "      <td>...</td>\n",
              "      <td>...</td>\n",
              "      <td>...</td>\n",
              "      <td>...</td>\n",
              "      <td>...</td>\n",
              "      <td>...</td>\n",
              "      <td>...</td>\n",
              "    </tr>\n",
              "    <tr>\n",
              "      <th>195</th>\n",
              "      <td>Photo</td>\n",
              "      <td>https://scontent-ort2-1.cdninstagram.com/v/t51...</td>\n",
              "      <td>The Civic Type R TCR boasts a lower ride heigh...</td>\n",
              "      <td>30882</td>\n",
              "      <td>209</td>\n",
              "      <td>['MayMotorsports']</td>\n",
              "      <td>2019-05-01 18:06</td>\n",
              "      <td>31091</td>\n",
              "      <td>4100000</td>\n",
              "      <td>0.007583</td>\n",
              "    </tr>\n",
              "    <tr>\n",
              "      <th>196</th>\n",
              "      <td>Video</td>\n",
              "      <td>https://scontent-ort2-1.cdninstagram.com/v/t51...</td>\n",
              "      <td>The #Indy500 is only a month away! We’ll be ce...</td>\n",
              "      <td>18482</td>\n",
              "      <td>125</td>\n",
              "      <td>['Indy500']</td>\n",
              "      <td>2019-05-01 00:13</td>\n",
              "      <td>18607</td>\n",
              "      <td>4100000</td>\n",
              "      <td>0.004538</td>\n",
              "    </tr>\n",
              "    <tr>\n",
              "      <th>197</th>\n",
              "      <td>Photo</td>\n",
              "      <td>https://scontent-ort2-1.cdninstagram.com/v/t51...</td>\n",
              "      <td>Lead the charge with the 2019 Honda Clarity Pl...</td>\n",
              "      <td>24968</td>\n",
              "      <td>131</td>\n",
              "      <td>[]</td>\n",
              "      <td>2019-04-26 22:25</td>\n",
              "      <td>25099</td>\n",
              "      <td>4100000</td>\n",
              "      <td>0.006122</td>\n",
              "    </tr>\n",
              "    <tr>\n",
              "      <th>198</th>\n",
              "      <td>Photo</td>\n",
              "      <td>https://scontent-ort2-1.cdninstagram.com/v/t51...</td>\n",
              "      <td>We spy something super green and a true work o...</td>\n",
              "      <td>15359</td>\n",
              "      <td>91</td>\n",
              "      <td>[]</td>\n",
              "      <td>2019-04-25 17:30</td>\n",
              "      <td>15450</td>\n",
              "      <td>4100000</td>\n",
              "      <td>0.003768</td>\n",
              "    </tr>\n",
              "    <tr>\n",
              "      <th>199</th>\n",
              "      <td>Photo</td>\n",
              "      <td>https://scontent-ort2-1.cdninstagram.com/v/t51...</td>\n",
              "      <td>Go from coast to coast in the 2019 Honda Fit. ...</td>\n",
              "      <td>16881</td>\n",
              "      <td>151</td>\n",
              "      <td>[]</td>\n",
              "      <td>2019-04-23 16:00</td>\n",
              "      <td>17032</td>\n",
              "      <td>4100000</td>\n",
              "      <td>0.004154</td>\n",
              "    </tr>\n",
              "  </tbody>\n",
              "</table>\n",
              "<p>200 rows × 10 columns</p>\n",
              "</div>"
            ],
            "text/plain": [
              "    is_video  ...  Eng Rate\n",
              "0      Photo  ...  0.004177\n",
              "1      Video  ...  0.001046\n",
              "2      Photo  ...  0.003658\n",
              "3      Video  ...  0.001259\n",
              "4      Photo  ...  0.003170\n",
              "..       ...  ...       ...\n",
              "195    Photo  ...  0.007583\n",
              "196    Video  ...  0.004538\n",
              "197    Photo  ...  0.006122\n",
              "198    Photo  ...  0.003768\n",
              "199    Photo  ...  0.004154\n",
              "\n",
              "[200 rows x 10 columns]"
            ]
          },
          "metadata": {
            "tags": []
          },
          "execution_count": 70
        }
      ]
    },
    {
      "cell_type": "markdown",
      "metadata": {
        "id": "9UyuLs9Xf2_t",
        "colab_type": "text"
      },
      "source": [
        "Honda has 4.1 million IG followers"
      ]
    },
    {
      "cell_type": "markdown",
      "metadata": {
        "id": "sowzY48KgLAg",
        "colab_type": "text"
      },
      "source": [
        "Honda Engagement Rate"
      ]
    },
    {
      "cell_type": "code",
      "metadata": {
        "id": "6eVNUzyLh9uk",
        "colab_type": "code",
        "colab": {
          "base_uri": "https://localhost:8080/",
          "height": 34
        },
        "outputId": "13ad644b-0663-4678-caaf-56133157f4e1"
      },
      "source": [
        "HondaEngRate = df['Eng Rate'].mean()\n",
        "HondaEngRate * 100"
      ],
      "execution_count": null,
      "outputs": [
        {
          "output_type": "execute_result",
          "data": {
            "text/plain": [
              "0.42472280487804853"
            ]
          },
          "metadata": {
            "tags": []
          },
          "execution_count": 99
        }
      ]
    },
    {
      "cell_type": "markdown",
      "metadata": {
        "id": "ioq-eBbYUcwr",
        "colab_type": "text"
      },
      "source": [
        "VOLVO"
      ]
    },
    {
      "cell_type": "code",
      "metadata": {
        "id": "TfktXLhQQZud",
        "colab_type": "code",
        "colab": {
          "resources": {
            "http://localhost:8080/nbextensions/google.colab/files.js": {
              "data": "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",
              "ok": true,
              "headers": [
                [
                  "content-type",
                  "application/javascript"
                ]
              ],
              "status": 200,
              "status_text": ""
            }
          },
          "base_uri": "https://localhost:8080/",
          "height": 71
        },
        "outputId": "d1374244-d973-4eaa-ea81-373d9cc691f9"
      },
      "source": [
        "from google.colab import files\n",
        "uploaded = files.upload()"
      ],
      "execution_count": null,
      "outputs": [
        {
          "output_type": "display_data",
          "data": {
            "text/html": [
              "\n",
              "     <input type=\"file\" id=\"files-fc137df3-13cc-483f-b474-c7eb7a572033\" name=\"files[]\" multiple disabled />\n",
              "     <output id=\"result-fc137df3-13cc-483f-b474-c7eb7a572033\">\n",
              "      Upload widget is only available when the cell has been executed in the\n",
              "      current browser session. Please rerun this cell to enable.\n",
              "      </output>\n",
              "      <script src=\"/nbextensions/google.colab/files.js\"></script> "
            ],
            "text/plain": [
              "<IPython.core.display.HTML object>"
            ]
          },
          "metadata": {
            "tags": []
          }
        },
        {
          "output_type": "stream",
          "text": [
            "Saving volvocars.csv to volvocars.csv\n"
          ],
          "name": "stdout"
        }
      ]
    },
    {
      "cell_type": "code",
      "metadata": {
        "id": "URHXBxGoQZzu",
        "colab_type": "code",
        "colab": {
          "base_uri": "https://localhost:8080/",
          "height": 306
        },
        "outputId": "070318f9-cd32-4b46-e177-49359637749d"
      },
      "source": [
        "import pandas as pd\n",
        "import io\n",
        "\n",
        "df1 = pd.read_csv(io.StringIO(uploaded['volvocars.csv'].decode('utf-8')))\n",
        "df1.head()"
      ],
      "execution_count": null,
      "outputs": [
        {
          "output_type": "execute_result",
          "data": {
            "text/html": [
              "<div>\n",
              "<style scoped>\n",
              "    .dataframe tbody tr th:only-of-type {\n",
              "        vertical-align: middle;\n",
              "    }\n",
              "\n",
              "    .dataframe tbody tr th {\n",
              "        vertical-align: top;\n",
              "    }\n",
              "\n",
              "    .dataframe thead th {\n",
              "        text-align: right;\n",
              "    }\n",
              "</style>\n",
              "<table border=\"1\" class=\"dataframe\">\n",
              "  <thead>\n",
              "    <tr style=\"text-align: right;\">\n",
              "      <th></th>\n",
              "      <th>is_video</th>\n",
              "      <th>display_url</th>\n",
              "      <th>caption</th>\n",
              "      <th>like count</th>\n",
              "      <th>comment count</th>\n",
              "      <th>tags</th>\n",
              "      <th>time</th>\n",
              "    </tr>\n",
              "  </thead>\n",
              "  <tbody>\n",
              "    <tr>\n",
              "      <th>0</th>\n",
              "      <td>Video</td>\n",
              "      <td>https://scontent-ort2-1.cdninstagram.com/v/t51...</td>\n",
              "      <td>We’re changing the ways we operate as we aim f...</td>\n",
              "      <td>2881</td>\n",
              "      <td>23</td>\n",
              "      <td>['VolvoRecharged']</td>\n",
              "      <td>2020-02-17 08:00</td>\n",
              "    </tr>\n",
              "    <tr>\n",
              "      <th>1</th>\n",
              "      <td>Photo</td>\n",
              "      <td>https://scontent-ort2-1.cdninstagram.com/v/t51...</td>\n",
              "      <td>I sense a spark between us. #ValentinesDay #XC...</td>\n",
              "      <td>15706</td>\n",
              "      <td>94</td>\n",
              "      <td>['VolvoRecharged', 'XC40Electric', 'Valentines...</td>\n",
              "      <td>2020-02-14 09:22</td>\n",
              "    </tr>\n",
              "    <tr>\n",
              "      <th>2</th>\n",
              "      <td>Video</td>\n",
              "      <td>https://scontent-ort2-1.cdninstagram.com/v/t51...</td>\n",
              "      <td>Electric is not enough, and we’re part of the ...</td>\n",
              "      <td>3950</td>\n",
              "      <td>57</td>\n",
              "      <td>['VolvoRecharged']</td>\n",
              "      <td>2020-02-12 09:40</td>\n",
              "    </tr>\n",
              "    <tr>\n",
              "      <th>3</th>\n",
              "      <td>Photo</td>\n",
              "      <td>https://scontent-ort2-1.cdninstagram.com/v/t51...</td>\n",
              "      <td>With higher ground clearance comes new destina...</td>\n",
              "      <td>29692</td>\n",
              "      <td>189</td>\n",
              "      <td>[]</td>\n",
              "      <td>2020-02-05 10:19</td>\n",
              "    </tr>\n",
              "    <tr>\n",
              "      <th>4</th>\n",
              "      <td>Photo</td>\n",
              "      <td>https://scontent-ort2-1.cdninstagram.com/v/t51...</td>\n",
              "      <td>Appreciating the serene nature with an #XC90. ...</td>\n",
              "      <td>13722</td>\n",
              "      <td>59</td>\n",
              "      <td>['VolvoRecharged', 'XC90']</td>\n",
              "      <td>2020-01-29 12:15</td>\n",
              "    </tr>\n",
              "  </tbody>\n",
              "</table>\n",
              "</div>"
            ],
            "text/plain": [
              "  is_video  ...              time\n",
              "0    Video  ...  2020-02-17 08:00\n",
              "1    Photo  ...  2020-02-14 09:22\n",
              "2    Video  ...  2020-02-12 09:40\n",
              "3    Photo  ...  2020-02-05 10:19\n",
              "4    Photo  ...  2020-01-29 12:15\n",
              "\n",
              "[5 rows x 7 columns]"
            ]
          },
          "metadata": {
            "tags": []
          },
          "execution_count": 74
        }
      ]
    },
    {
      "cell_type": "code",
      "metadata": {
        "id": "uhWUwzRsieZy",
        "colab_type": "code",
        "colab": {
          "base_uri": "https://localhost:8080/",
          "height": 606
        },
        "outputId": "daaf98d0-f5a6-4389-d6c7-9a77d5e43972"
      },
      "source": [
        "df1['total engagement'] = df1['like count']+df1['comment count']\n",
        "df1['total followers'] = 1400000\n",
        "df1['Eng Rate'] = df1['total engagement']/df1['total followers']\n",
        "df1"
      ],
      "execution_count": null,
      "outputs": [
        {
          "output_type": "execute_result",
          "data": {
            "text/html": [
              "<div>\n",
              "<style scoped>\n",
              "    .dataframe tbody tr th:only-of-type {\n",
              "        vertical-align: middle;\n",
              "    }\n",
              "\n",
              "    .dataframe tbody tr th {\n",
              "        vertical-align: top;\n",
              "    }\n",
              "\n",
              "    .dataframe thead th {\n",
              "        text-align: right;\n",
              "    }\n",
              "</style>\n",
              "<table border=\"1\" class=\"dataframe\">\n",
              "  <thead>\n",
              "    <tr style=\"text-align: right;\">\n",
              "      <th></th>\n",
              "      <th>is_video</th>\n",
              "      <th>display_url</th>\n",
              "      <th>caption</th>\n",
              "      <th>like count</th>\n",
              "      <th>comment count</th>\n",
              "      <th>tags</th>\n",
              "      <th>time</th>\n",
              "      <th>total engagement</th>\n",
              "      <th>total followers</th>\n",
              "      <th>Eng Rate</th>\n",
              "    </tr>\n",
              "  </thead>\n",
              "  <tbody>\n",
              "    <tr>\n",
              "      <th>0</th>\n",
              "      <td>Video</td>\n",
              "      <td>https://scontent-ort2-1.cdninstagram.com/v/t51...</td>\n",
              "      <td>We’re changing the ways we operate as we aim f...</td>\n",
              "      <td>2881</td>\n",
              "      <td>23</td>\n",
              "      <td>['VolvoRecharged']</td>\n",
              "      <td>2020-02-17 08:00</td>\n",
              "      <td>2904</td>\n",
              "      <td>1400000</td>\n",
              "      <td>0.002074</td>\n",
              "    </tr>\n",
              "    <tr>\n",
              "      <th>1</th>\n",
              "      <td>Photo</td>\n",
              "      <td>https://scontent-ort2-1.cdninstagram.com/v/t51...</td>\n",
              "      <td>I sense a spark between us. #ValentinesDay #XC...</td>\n",
              "      <td>15706</td>\n",
              "      <td>94</td>\n",
              "      <td>['VolvoRecharged', 'XC40Electric', 'Valentines...</td>\n",
              "      <td>2020-02-14 09:22</td>\n",
              "      <td>15800</td>\n",
              "      <td>1400000</td>\n",
              "      <td>0.011286</td>\n",
              "    </tr>\n",
              "    <tr>\n",
              "      <th>2</th>\n",
              "      <td>Video</td>\n",
              "      <td>https://scontent-ort2-1.cdninstagram.com/v/t51...</td>\n",
              "      <td>Electric is not enough, and we’re part of the ...</td>\n",
              "      <td>3950</td>\n",
              "      <td>57</td>\n",
              "      <td>['VolvoRecharged']</td>\n",
              "      <td>2020-02-12 09:40</td>\n",
              "      <td>4007</td>\n",
              "      <td>1400000</td>\n",
              "      <td>0.002862</td>\n",
              "    </tr>\n",
              "    <tr>\n",
              "      <th>3</th>\n",
              "      <td>Photo</td>\n",
              "      <td>https://scontent-ort2-1.cdninstagram.com/v/t51...</td>\n",
              "      <td>With higher ground clearance comes new destina...</td>\n",
              "      <td>29692</td>\n",
              "      <td>189</td>\n",
              "      <td>[]</td>\n",
              "      <td>2020-02-05 10:19</td>\n",
              "      <td>29881</td>\n",
              "      <td>1400000</td>\n",
              "      <td>0.021344</td>\n",
              "    </tr>\n",
              "    <tr>\n",
              "      <th>4</th>\n",
              "      <td>Photo</td>\n",
              "      <td>https://scontent-ort2-1.cdninstagram.com/v/t51...</td>\n",
              "      <td>Appreciating the serene nature with an #XC90. ...</td>\n",
              "      <td>13722</td>\n",
              "      <td>59</td>\n",
              "      <td>['VolvoRecharged', 'XC90']</td>\n",
              "      <td>2020-01-29 12:15</td>\n",
              "      <td>13781</td>\n",
              "      <td>1400000</td>\n",
              "      <td>0.009844</td>\n",
              "    </tr>\n",
              "    <tr>\n",
              "      <th>...</th>\n",
              "      <td>...</td>\n",
              "      <td>...</td>\n",
              "      <td>...</td>\n",
              "      <td>...</td>\n",
              "      <td>...</td>\n",
              "      <td>...</td>\n",
              "      <td>...</td>\n",
              "      <td>...</td>\n",
              "      <td>...</td>\n",
              "      <td>...</td>\n",
              "    </tr>\n",
              "    <tr>\n",
              "      <th>195</th>\n",
              "      <td>Photo</td>\n",
              "      <td>https://scontent-ort2-1.cdninstagram.com/v/t51...</td>\n",
              "      <td>A new vision of how to enjoy travel. Find out ...</td>\n",
              "      <td>24257</td>\n",
              "      <td>143</td>\n",
              "      <td>['360c']</td>\n",
              "      <td>2018-09-20 09:33</td>\n",
              "      <td>24400</td>\n",
              "      <td>1400000</td>\n",
              "      <td>0.017429</td>\n",
              "    </tr>\n",
              "    <tr>\n",
              "      <th>196</th>\n",
              "      <td>Photo</td>\n",
              "      <td>https://scontent-ort2-1.cdninstagram.com/v/t51...</td>\n",
              "      <td>Reimagine the wheel. Without the wheel. Find o...</td>\n",
              "      <td>41518</td>\n",
              "      <td>303</td>\n",
              "      <td>['360c']</td>\n",
              "      <td>2018-09-18 09:19</td>\n",
              "      <td>41821</td>\n",
              "      <td>1400000</td>\n",
              "      <td>0.029872</td>\n",
              "    </tr>\n",
              "    <tr>\n",
              "      <th>197</th>\n",
              "      <td>Photo</td>\n",
              "      <td>https://scontent-ort2-1.cdninstagram.com/v/t51...</td>\n",
              "      <td>Introducing our vision for the future of trave...</td>\n",
              "      <td>25462</td>\n",
              "      <td>104</td>\n",
              "      <td>['360c']</td>\n",
              "      <td>2018-09-14 07:00</td>\n",
              "      <td>25566</td>\n",
              "      <td>1400000</td>\n",
              "      <td>0.018261</td>\n",
              "    </tr>\n",
              "    <tr>\n",
              "      <th>198</th>\n",
              "      <td>Video</td>\n",
              "      <td>https://scontent-ort2-1.cdninstagram.com/v/t51...</td>\n",
              "      <td>Here are some highlights from the reveal of th...</td>\n",
              "      <td>11113</td>\n",
              "      <td>117</td>\n",
              "      <td>['360c']</td>\n",
              "      <td>2018-09-13 08:41</td>\n",
              "      <td>11230</td>\n",
              "      <td>1400000</td>\n",
              "      <td>0.008021</td>\n",
              "    </tr>\n",
              "    <tr>\n",
              "      <th>199</th>\n",
              "      <td>Video</td>\n",
              "      <td>https://scontent-ort2-1.cdninstagram.com/v/t51...</td>\n",
              "      <td>The future of travelling is autonomous, smooth...</td>\n",
              "      <td>14762</td>\n",
              "      <td>350</td>\n",
              "      <td>['360c']</td>\n",
              "      <td>2018-09-05 10:50</td>\n",
              "      <td>15112</td>\n",
              "      <td>1400000</td>\n",
              "      <td>0.010794</td>\n",
              "    </tr>\n",
              "  </tbody>\n",
              "</table>\n",
              "<p>200 rows × 10 columns</p>\n",
              "</div>"
            ],
            "text/plain": [
              "    is_video  ...  Eng Rate\n",
              "0      Video  ...  0.002074\n",
              "1      Photo  ...  0.011286\n",
              "2      Video  ...  0.002862\n",
              "3      Photo  ...  0.021344\n",
              "4      Photo  ...  0.009844\n",
              "..       ...  ...       ...\n",
              "195    Photo  ...  0.017429\n",
              "196    Photo  ...  0.029872\n",
              "197    Photo  ...  0.018261\n",
              "198    Video  ...  0.008021\n",
              "199    Video  ...  0.010794\n",
              "\n",
              "[200 rows x 10 columns]"
            ]
          },
          "metadata": {
            "tags": []
          },
          "execution_count": 82
        }
      ]
    },
    {
      "cell_type": "markdown",
      "metadata": {
        "id": "kSVFb4E0oR7M",
        "colab_type": "text"
      },
      "source": [
        "Volvo Engagement Rate"
      ]
    },
    {
      "cell_type": "code",
      "metadata": {
        "id": "WzbroJOyim_L",
        "colab_type": "code",
        "colab": {
          "base_uri": "https://localhost:8080/",
          "height": 34
        },
        "outputId": "f0fd202e-7da8-47ed-8da8-672956c732e2"
      },
      "source": [
        "VolvoEngRate = df1['Eng Rate'].mean()\n",
        "VolvoEngRate * 100"
      ],
      "execution_count": null,
      "outputs": [
        {
          "output_type": "execute_result",
          "data": {
            "text/plain": [
              "1.377770714285714"
            ]
          },
          "metadata": {
            "tags": []
          },
          "execution_count": 100
        }
      ]
    },
    {
      "cell_type": "markdown",
      "metadata": {
        "id": "7cRV4DdIUwQp",
        "colab_type": "text"
      },
      "source": [
        "DODGE"
      ]
    },
    {
      "cell_type": "code",
      "metadata": {
        "id": "hpMpwPp9VC71",
        "colab_type": "code",
        "colab": {
          "resources": {
            "http://localhost:8080/nbextensions/google.colab/files.js": {
              "data": "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",
              "ok": true,
              "headers": [
                [
                  "content-type",
                  "application/javascript"
                ]
              ],
              "status": 200,
              "status_text": ""
            }
          },
          "base_uri": "https://localhost:8080/",
          "height": 71
        },
        "outputId": "f0db8a46-3401-495a-e491-af3a56daaa8c"
      },
      "source": [
        "from google.colab import files\n",
        "uploaded = files.upload()"
      ],
      "execution_count": null,
      "outputs": [
        {
          "output_type": "display_data",
          "data": {
            "text/html": [
              "\n",
              "     <input type=\"file\" id=\"files-2c6cf665-c8e3-4593-9d37-07d05b69debe\" name=\"files[]\" multiple disabled />\n",
              "     <output id=\"result-2c6cf665-c8e3-4593-9d37-07d05b69debe\">\n",
              "      Upload widget is only available when the cell has been executed in the\n",
              "      current browser session. Please rerun this cell to enable.\n",
              "      </output>\n",
              "      <script src=\"/nbextensions/google.colab/files.js\"></script> "
            ],
            "text/plain": [
              "<IPython.core.display.HTML object>"
            ]
          },
          "metadata": {
            "tags": []
          }
        },
        {
          "output_type": "stream",
          "text": [
            "Saving dodgeofficial.csv to dodgeofficial.csv\n"
          ],
          "name": "stdout"
        }
      ]
    },
    {
      "cell_type": "code",
      "metadata": {
        "id": "1b5Tlf05VDB_",
        "colab_type": "code",
        "colab": {
          "base_uri": "https://localhost:8080/",
          "height": 306
        },
        "outputId": "50263aaa-ec02-428e-8129-9581597d9c44"
      },
      "source": [
        "import pandas as pd\n",
        "import io\n",
        "\n",
        "df2 = pd.read_csv(io.StringIO(uploaded['dodgeofficial.csv'].decode('utf-8')))\n",
        "df2.head()"
      ],
      "execution_count": null,
      "outputs": [
        {
          "output_type": "execute_result",
          "data": {
            "text/html": [
              "<div>\n",
              "<style scoped>\n",
              "    .dataframe tbody tr th:only-of-type {\n",
              "        vertical-align: middle;\n",
              "    }\n",
              "\n",
              "    .dataframe tbody tr th {\n",
              "        vertical-align: top;\n",
              "    }\n",
              "\n",
              "    .dataframe thead th {\n",
              "        text-align: right;\n",
              "    }\n",
              "</style>\n",
              "<table border=\"1\" class=\"dataframe\">\n",
              "  <thead>\n",
              "    <tr style=\"text-align: right;\">\n",
              "      <th></th>\n",
              "      <th>is_video</th>\n",
              "      <th>display_url</th>\n",
              "      <th>caption</th>\n",
              "      <th>like count</th>\n",
              "      <th>comment count</th>\n",
              "      <th>tags</th>\n",
              "      <th>time</th>\n",
              "    </tr>\n",
              "  </thead>\n",
              "  <tbody>\n",
              "    <tr>\n",
              "      <th>0</th>\n",
              "      <td>Photo</td>\n",
              "      <td>https://scontent-ort2-1.cdninstagram.com/v/t51...</td>\n",
              "      <td>Eat up the road.\\n🚘: @bronstia808\\n📸: @summit....</td>\n",
              "      <td>96305</td>\n",
              "      <td>245</td>\n",
              "      <td>['DodgeDemon', 'Challenger', 'MuscleCars', 'Th...</td>\n",
              "      <td>2020-02-17 14:41</td>\n",
              "    </tr>\n",
              "    <tr>\n",
              "      <th>1</th>\n",
              "      <td>Photo</td>\n",
              "      <td>https://scontent-ort2-1.cdninstagram.com/v/t51...</td>\n",
              "      <td>Even when it's silver, it takes home gold.\\n\\n...</td>\n",
              "      <td>172422</td>\n",
              "      <td>436</td>\n",
              "      <td>['Challenger', 'MuscleCars', 'ThatsMyDodge', '...</td>\n",
              "      <td>2020-02-16 14:41</td>\n",
              "    </tr>\n",
              "    <tr>\n",
              "      <th>2</th>\n",
              "      <td>Photo</td>\n",
              "      <td>https://scontent-ort2-1.cdninstagram.com/v/t51...</td>\n",
              "      <td>Fire in the eyes. 🚘: @redline707_\\n\\n#ThatsMyD...</td>\n",
              "      <td>134803</td>\n",
              "      <td>306</td>\n",
              "      <td>['Challenger', 'MuscleCars', 'ThatsMyDodge', '...</td>\n",
              "      <td>2020-02-15 14:42</td>\n",
              "    </tr>\n",
              "    <tr>\n",
              "      <th>3</th>\n",
              "      <td>Video</td>\n",
              "      <td>https://scontent-ort2-1.cdninstagram.com/v/t51...</td>\n",
              "      <td>Love is in the air. #HappyValentinesDay</td>\n",
              "      <td>71666</td>\n",
              "      <td>705</td>\n",
              "      <td>['HappyValentinesDay']</td>\n",
              "      <td>2020-02-14 13:00</td>\n",
              "    </tr>\n",
              "    <tr>\n",
              "      <th>4</th>\n",
              "      <td>Photo</td>\n",
              "      <td>https://scontent-ort2-1.cdninstagram.com/v/t51...</td>\n",
              "      <td>Never underestimate muscle.\\n🚘: @three_pedal_l...</td>\n",
              "      <td>118885</td>\n",
              "      <td>314</td>\n",
              "      <td>['Challenger', 'MuscleCars', 'ThatsMyDodge', '...</td>\n",
              "      <td>2020-02-12 21:46</td>\n",
              "    </tr>\n",
              "  </tbody>\n",
              "</table>\n",
              "</div>"
            ],
            "text/plain": [
              "  is_video  ...              time\n",
              "0    Photo  ...  2020-02-17 14:41\n",
              "1    Photo  ...  2020-02-16 14:41\n",
              "2    Photo  ...  2020-02-15 14:42\n",
              "3    Video  ...  2020-02-14 13:00\n",
              "4    Photo  ...  2020-02-12 21:46\n",
              "\n",
              "[5 rows x 7 columns]"
            ]
          },
          "metadata": {
            "tags": []
          },
          "execution_count": 81
        }
      ]
    },
    {
      "cell_type": "code",
      "metadata": {
        "id": "AZg6_rAhjq3x",
        "colab_type": "code",
        "colab": {
          "base_uri": "https://localhost:8080/",
          "height": 640
        },
        "outputId": "14db0bb4-f2a4-4950-d6df-3b8fa7f79e82"
      },
      "source": [
        "df2['total engagement'] = df2['like count']+df2['comment count']\n",
        "df2['total followers'] = 5300000\n",
        "df2['Eng Rate'] = df2['total engagement']/df2['total followers']\n",
        "df2"
      ],
      "execution_count": null,
      "outputs": [
        {
          "output_type": "execute_result",
          "data": {
            "text/html": [
              "<div>\n",
              "<style scoped>\n",
              "    .dataframe tbody tr th:only-of-type {\n",
              "        vertical-align: middle;\n",
              "    }\n",
              "\n",
              "    .dataframe tbody tr th {\n",
              "        vertical-align: top;\n",
              "    }\n",
              "\n",
              "    .dataframe thead th {\n",
              "        text-align: right;\n",
              "    }\n",
              "</style>\n",
              "<table border=\"1\" class=\"dataframe\">\n",
              "  <thead>\n",
              "    <tr style=\"text-align: right;\">\n",
              "      <th></th>\n",
              "      <th>is_video</th>\n",
              "      <th>display_url</th>\n",
              "      <th>caption</th>\n",
              "      <th>like count</th>\n",
              "      <th>comment count</th>\n",
              "      <th>tags</th>\n",
              "      <th>time</th>\n",
              "      <th>total engagement</th>\n",
              "      <th>total followers</th>\n",
              "      <th>Eng Rate</th>\n",
              "    </tr>\n",
              "  </thead>\n",
              "  <tbody>\n",
              "    <tr>\n",
              "      <th>0</th>\n",
              "      <td>Photo</td>\n",
              "      <td>https://scontent-ort2-1.cdninstagram.com/v/t51...</td>\n",
              "      <td>Eat up the road.\\n🚘: @bronstia808\\n📸: @summit....</td>\n",
              "      <td>96305</td>\n",
              "      <td>245</td>\n",
              "      <td>['DodgeDemon', 'Challenger', 'MuscleCars', 'Th...</td>\n",
              "      <td>2020-02-17 14:41</td>\n",
              "      <td>96550</td>\n",
              "      <td>5300000</td>\n",
              "      <td>0.018217</td>\n",
              "    </tr>\n",
              "    <tr>\n",
              "      <th>1</th>\n",
              "      <td>Photo</td>\n",
              "      <td>https://scontent-ort2-1.cdninstagram.com/v/t51...</td>\n",
              "      <td>Even when it's silver, it takes home gold.\\n\\n...</td>\n",
              "      <td>172422</td>\n",
              "      <td>436</td>\n",
              "      <td>['Challenger', 'MuscleCars', 'ThatsMyDodge', '...</td>\n",
              "      <td>2020-02-16 14:41</td>\n",
              "      <td>172858</td>\n",
              "      <td>5300000</td>\n",
              "      <td>0.032615</td>\n",
              "    </tr>\n",
              "    <tr>\n",
              "      <th>2</th>\n",
              "      <td>Photo</td>\n",
              "      <td>https://scontent-ort2-1.cdninstagram.com/v/t51...</td>\n",
              "      <td>Fire in the eyes. 🚘: @redline707_\\n\\n#ThatsMyD...</td>\n",
              "      <td>134803</td>\n",
              "      <td>306</td>\n",
              "      <td>['Challenger', 'MuscleCars', 'ThatsMyDodge', '...</td>\n",
              "      <td>2020-02-15 14:42</td>\n",
              "      <td>135109</td>\n",
              "      <td>5300000</td>\n",
              "      <td>0.025492</td>\n",
              "    </tr>\n",
              "    <tr>\n",
              "      <th>3</th>\n",
              "      <td>Video</td>\n",
              "      <td>https://scontent-ort2-1.cdninstagram.com/v/t51...</td>\n",
              "      <td>Love is in the air. #HappyValentinesDay</td>\n",
              "      <td>71666</td>\n",
              "      <td>705</td>\n",
              "      <td>['HappyValentinesDay']</td>\n",
              "      <td>2020-02-14 13:00</td>\n",
              "      <td>72371</td>\n",
              "      <td>5300000</td>\n",
              "      <td>0.013655</td>\n",
              "    </tr>\n",
              "    <tr>\n",
              "      <th>4</th>\n",
              "      <td>Photo</td>\n",
              "      <td>https://scontent-ort2-1.cdninstagram.com/v/t51...</td>\n",
              "      <td>Never underestimate muscle.\\n🚘: @three_pedal_l...</td>\n",
              "      <td>118885</td>\n",
              "      <td>314</td>\n",
              "      <td>['Challenger', 'MuscleCars', 'ThatsMyDodge', '...</td>\n",
              "      <td>2020-02-12 21:46</td>\n",
              "      <td>119199</td>\n",
              "      <td>5300000</td>\n",
              "      <td>0.022490</td>\n",
              "    </tr>\n",
              "    <tr>\n",
              "      <th>...</th>\n",
              "      <td>...</td>\n",
              "      <td>...</td>\n",
              "      <td>...</td>\n",
              "      <td>...</td>\n",
              "      <td>...</td>\n",
              "      <td>...</td>\n",
              "      <td>...</td>\n",
              "      <td>...</td>\n",
              "      <td>...</td>\n",
              "      <td>...</td>\n",
              "    </tr>\n",
              "    <tr>\n",
              "      <th>195</th>\n",
              "      <td>Video</td>\n",
              "      <td>https://scontent-ort2-1.cdninstagram.com/v/t51...</td>\n",
              "      <td>The skies were clear before we got here.\\n⠀⠀⠀⠀...</td>\n",
              "      <td>40189</td>\n",
              "      <td>120</td>\n",
              "      <td>['Challenger', 'MuscleCars', 'ThatsMyDodge', '...</td>\n",
              "      <td>2019-09-03 20:47</td>\n",
              "      <td>40309</td>\n",
              "      <td>5300000</td>\n",
              "      <td>0.007605</td>\n",
              "    </tr>\n",
              "    <tr>\n",
              "      <th>196</th>\n",
              "      <td>Photo</td>\n",
              "      <td>https://scontent-ort2-1.cdninstagram.com/v/t51...</td>\n",
              "      <td>Taillight Tuesday\\n🚘: @hellkitty_nai\\n📸: @cw_v...</td>\n",
              "      <td>74243</td>\n",
              "      <td>164</td>\n",
              "      <td>['MuscleCars', 'ThatsMyDodge', 'InstaAutos', '...</td>\n",
              "      <td>2019-09-03 13:31</td>\n",
              "      <td>74407</td>\n",
              "      <td>5300000</td>\n",
              "      <td>0.014039</td>\n",
              "    </tr>\n",
              "    <tr>\n",
              "      <th>197</th>\n",
              "      <td>Photo</td>\n",
              "      <td>https://scontent-ort2-1.cdninstagram.com/v/t51...</td>\n",
              "      <td>Push the limits.\\n🚘: @tank392\\n\\n#ThatsMyDodge...</td>\n",
              "      <td>108008</td>\n",
              "      <td>332</td>\n",
              "      <td>['392', 'MuscleCars', 'ThatsMyDodge', 'InstaAu...</td>\n",
              "      <td>2019-09-02 13:41</td>\n",
              "      <td>108340</td>\n",
              "      <td>5300000</td>\n",
              "      <td>0.020442</td>\n",
              "    </tr>\n",
              "    <tr>\n",
              "      <th>198</th>\n",
              "      <td>Photo</td>\n",
              "      <td>https://scontent-ort2-1.cdninstagram.com/v/t51...</td>\n",
              "      <td>Light up the road.\\n⠀⠀⠀⠀⠀⠀⠀⠀⠀⠀⠀⠀\\n#ThatsMyDodg...</td>\n",
              "      <td>78365</td>\n",
              "      <td>165</td>\n",
              "      <td>['Challenger', 'MuscleCars', 'ThatsMyDodge', '...</td>\n",
              "      <td>2019-09-01 20:46</td>\n",
              "      <td>78530</td>\n",
              "      <td>5300000</td>\n",
              "      <td>0.014817</td>\n",
              "    </tr>\n",
              "    <tr>\n",
              "      <th>199</th>\n",
              "      <td>Photo</td>\n",
              "      <td>https://scontent-ort2-1.cdninstagram.com/v/t51...</td>\n",
              "      <td>Cloud machine.\\n🚘: @_6.4gio_\\n📸: @dkphoto_dodg...</td>\n",
              "      <td>92736</td>\n",
              "      <td>218</td>\n",
              "      <td>['DodgeDaytona', 'MuscleCars', 'ThatsMyDodge',...</td>\n",
              "      <td>2019-08-31 13:51</td>\n",
              "      <td>92954</td>\n",
              "      <td>5300000</td>\n",
              "      <td>0.017538</td>\n",
              "    </tr>\n",
              "  </tbody>\n",
              "</table>\n",
              "<p>200 rows × 10 columns</p>\n",
              "</div>"
            ],
            "text/plain": [
              "    is_video  ...  Eng Rate\n",
              "0      Photo  ...  0.018217\n",
              "1      Photo  ...  0.032615\n",
              "2      Photo  ...  0.025492\n",
              "3      Video  ...  0.013655\n",
              "4      Photo  ...  0.022490\n",
              "..       ...  ...       ...\n",
              "195    Video  ...  0.007605\n",
              "196    Photo  ...  0.014039\n",
              "197    Photo  ...  0.020442\n",
              "198    Photo  ...  0.014817\n",
              "199    Photo  ...  0.017538\n",
              "\n",
              "[200 rows x 10 columns]"
            ]
          },
          "metadata": {
            "tags": []
          },
          "execution_count": 84
        }
      ]
    },
    {
      "cell_type": "markdown",
      "metadata": {
        "id": "3-6zHMSVoVQt",
        "colab_type": "text"
      },
      "source": [
        "Dodge Engagement Rate"
      ]
    },
    {
      "cell_type": "code",
      "metadata": {
        "id": "gw-sFc7okIYu",
        "colab_type": "code",
        "colab": {
          "base_uri": "https://localhost:8080/",
          "height": 34
        },
        "outputId": "b4916076-41a5-432b-fe74-05b4c6bfb6a6"
      },
      "source": [
        "DodgeEngRate = df2['Eng Rate'].mean()\n",
        "DodgeEngRate * 100"
      ],
      "execution_count": null,
      "outputs": [
        {
          "output_type": "execute_result",
          "data": {
            "text/plain": [
              "2.11502924528302"
            ]
          },
          "metadata": {
            "tags": []
          },
          "execution_count": 101
        }
      ]
    },
    {
      "cell_type": "markdown",
      "metadata": {
        "id": "C5zDqL9XVTuA",
        "colab_type": "text"
      },
      "source": [
        "CHEVROLET"
      ]
    },
    {
      "cell_type": "code",
      "metadata": {
        "id": "1ZlCa5m7VVbv",
        "colab_type": "code",
        "colab": {
          "resources": {
            "http://localhost:8080/nbextensions/google.colab/files.js": {
              "data": "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",
              "ok": true,
              "headers": [
                [
                  "content-type",
                  "application/javascript"
                ]
              ],
              "status": 200,
              "status_text": ""
            }
          },
          "base_uri": "https://localhost:8080/",
          "height": 71
        },
        "outputId": "de5c81f3-d84e-41df-d5d6-860895197215"
      },
      "source": [
        "from google.colab import files\n",
        "uploaded = files.upload()"
      ],
      "execution_count": null,
      "outputs": [
        {
          "output_type": "display_data",
          "data": {
            "text/html": [
              "\n",
              "     <input type=\"file\" id=\"files-9bb803e4-c639-4cf7-9a37-6153c9eb34d2\" name=\"files[]\" multiple disabled />\n",
              "     <output id=\"result-9bb803e4-c639-4cf7-9a37-6153c9eb34d2\">\n",
              "      Upload widget is only available when the cell has been executed in the\n",
              "      current browser session. Please rerun this cell to enable.\n",
              "      </output>\n",
              "      <script src=\"/nbextensions/google.colab/files.js\"></script> "
            ],
            "text/plain": [
              "<IPython.core.display.HTML object>"
            ]
          },
          "metadata": {
            "tags": []
          }
        },
        {
          "output_type": "stream",
          "text": [
            "Saving chevrolet.csv to chevrolet.csv\n"
          ],
          "name": "stdout"
        }
      ]
    },
    {
      "cell_type": "code",
      "metadata": {
        "id": "uddp1xXTVc9C",
        "colab_type": "code",
        "colab": {
          "base_uri": "https://localhost:8080/",
          "height": 204
        },
        "outputId": "23f55b2e-6c13-44ca-deee-73ea8f61a6c6"
      },
      "source": [
        "import pandas as pd\n",
        "import io\n",
        "\n",
        "df3 = pd.read_csv(io.StringIO(uploaded['chevrolet.csv'].decode('utf-8')))\n",
        "df3.head()"
      ],
      "execution_count": null,
      "outputs": [
        {
          "output_type": "execute_result",
          "data": {
            "text/html": [
              "<div>\n",
              "<style scoped>\n",
              "    .dataframe tbody tr th:only-of-type {\n",
              "        vertical-align: middle;\n",
              "    }\n",
              "\n",
              "    .dataframe tbody tr th {\n",
              "        vertical-align: top;\n",
              "    }\n",
              "\n",
              "    .dataframe thead th {\n",
              "        text-align: right;\n",
              "    }\n",
              "</style>\n",
              "<table border=\"1\" class=\"dataframe\">\n",
              "  <thead>\n",
              "    <tr style=\"text-align: right;\">\n",
              "      <th></th>\n",
              "      <th>is_video</th>\n",
              "      <th>display_url</th>\n",
              "      <th>caption</th>\n",
              "      <th>like count</th>\n",
              "      <th>comment count</th>\n",
              "      <th>tags</th>\n",
              "      <th>time</th>\n",
              "    </tr>\n",
              "  </thead>\n",
              "  <tbody>\n",
              "    <tr>\n",
              "      <th>0</th>\n",
              "      <td>Photo</td>\n",
              "      <td>https://scontent-ort2-1.cdninstagram.com/v/t51...</td>\n",
              "      <td>With a bold new design, the 2021 #ChevyEquinox...</td>\n",
              "      <td>25823</td>\n",
              "      <td>311</td>\n",
              "      <td>['ChevyEquinox']</td>\n",
              "      <td>2020-02-06 11:29</td>\n",
              "    </tr>\n",
              "    <tr>\n",
              "      <th>1</th>\n",
              "      <td>Photo</td>\n",
              "      <td>https://scontent-ort2-1.cdninstagram.com/v/t51...</td>\n",
              "      <td>We can play along too. #DollyPartonChallenge</td>\n",
              "      <td>53606</td>\n",
              "      <td>412</td>\n",
              "      <td>['DollyPartonChallenge']</td>\n",
              "      <td>2020-01-25 15:08</td>\n",
              "    </tr>\n",
              "    <tr>\n",
              "      <th>2</th>\n",
              "      <td>Photo</td>\n",
              "      <td>https://scontent-ort2-1.cdninstagram.com/v/t51...</td>\n",
              "      <td>Check out our Story today and learn how to be ...</td>\n",
              "      <td>40889</td>\n",
              "      <td>152</td>\n",
              "      <td>['Chevy']</td>\n",
              "      <td>2020-01-24 16:10</td>\n",
              "    </tr>\n",
              "    <tr>\n",
              "      <th>3</th>\n",
              "      <td>Photo</td>\n",
              "      <td>https://scontent-ort2-1.cdninstagram.com/v/t51...</td>\n",
              "      <td>The hunt is over. Introducing the #Silverado #...</td>\n",
              "      <td>54522</td>\n",
              "      <td>489</td>\n",
              "      <td>['Realtree', 'Silverado']</td>\n",
              "      <td>2020-01-22 18:29</td>\n",
              "    </tr>\n",
              "    <tr>\n",
              "      <th>4</th>\n",
              "      <td>Video</td>\n",
              "      <td>https://scontent-ort2-1.cdninstagram.com/v/t51...</td>\n",
              "      <td>There’s no hiding it. Your phone background sa...</td>\n",
              "      <td>15845</td>\n",
              "      <td>74</td>\n",
              "      <td>['Silverado']</td>\n",
              "      <td>2020-01-21 19:19</td>\n",
              "    </tr>\n",
              "  </tbody>\n",
              "</table>\n",
              "</div>"
            ],
            "text/plain": [
              "  is_video  ...              time\n",
              "0    Photo  ...  2020-02-06 11:29\n",
              "1    Photo  ...  2020-01-25 15:08\n",
              "2    Photo  ...  2020-01-24 16:10\n",
              "3    Photo  ...  2020-01-22 18:29\n",
              "4    Video  ...  2020-01-21 19:19\n",
              "\n",
              "[5 rows x 7 columns]"
            ]
          },
          "metadata": {
            "tags": []
          },
          "execution_count": 87
        }
      ]
    },
    {
      "cell_type": "code",
      "metadata": {
        "id": "6ubzu-7ukk-W",
        "colab_type": "code",
        "colab": {
          "base_uri": "https://localhost:8080/",
          "height": 606
        },
        "outputId": "1b027d6e-e4d8-4937-ba40-5002e6fd0e89"
      },
      "source": [
        "df3['total engagement'] = df3['like count']+df3['comment count']\n",
        "df3['total followers'] = 3000000\n",
        "df3['Eng Rate'] = df3['total engagement']/df3['total followers']\n",
        "df3"
      ],
      "execution_count": null,
      "outputs": [
        {
          "output_type": "execute_result",
          "data": {
            "text/html": [
              "<div>\n",
              "<style scoped>\n",
              "    .dataframe tbody tr th:only-of-type {\n",
              "        vertical-align: middle;\n",
              "    }\n",
              "\n",
              "    .dataframe tbody tr th {\n",
              "        vertical-align: top;\n",
              "    }\n",
              "\n",
              "    .dataframe thead th {\n",
              "        text-align: right;\n",
              "    }\n",
              "</style>\n",
              "<table border=\"1\" class=\"dataframe\">\n",
              "  <thead>\n",
              "    <tr style=\"text-align: right;\">\n",
              "      <th></th>\n",
              "      <th>is_video</th>\n",
              "      <th>display_url</th>\n",
              "      <th>caption</th>\n",
              "      <th>like count</th>\n",
              "      <th>comment count</th>\n",
              "      <th>tags</th>\n",
              "      <th>time</th>\n",
              "      <th>total engagement</th>\n",
              "      <th>total followers</th>\n",
              "      <th>Eng Rate</th>\n",
              "    </tr>\n",
              "  </thead>\n",
              "  <tbody>\n",
              "    <tr>\n",
              "      <th>0</th>\n",
              "      <td>Photo</td>\n",
              "      <td>https://scontent-ort2-1.cdninstagram.com/v/t51...</td>\n",
              "      <td>With a bold new design, the 2021 #ChevyEquinox...</td>\n",
              "      <td>25823</td>\n",
              "      <td>311</td>\n",
              "      <td>['ChevyEquinox']</td>\n",
              "      <td>2020-02-06 11:29</td>\n",
              "      <td>26134</td>\n",
              "      <td>3000000</td>\n",
              "      <td>0.008711</td>\n",
              "    </tr>\n",
              "    <tr>\n",
              "      <th>1</th>\n",
              "      <td>Photo</td>\n",
              "      <td>https://scontent-ort2-1.cdninstagram.com/v/t51...</td>\n",
              "      <td>We can play along too. #DollyPartonChallenge</td>\n",
              "      <td>53606</td>\n",
              "      <td>412</td>\n",
              "      <td>['DollyPartonChallenge']</td>\n",
              "      <td>2020-01-25 15:08</td>\n",
              "      <td>54018</td>\n",
              "      <td>3000000</td>\n",
              "      <td>0.018006</td>\n",
              "    </tr>\n",
              "    <tr>\n",
              "      <th>2</th>\n",
              "      <td>Photo</td>\n",
              "      <td>https://scontent-ort2-1.cdninstagram.com/v/t51...</td>\n",
              "      <td>Check out our Story today and learn how to be ...</td>\n",
              "      <td>40889</td>\n",
              "      <td>152</td>\n",
              "      <td>['Chevy']</td>\n",
              "      <td>2020-01-24 16:10</td>\n",
              "      <td>41041</td>\n",
              "      <td>3000000</td>\n",
              "      <td>0.013680</td>\n",
              "    </tr>\n",
              "    <tr>\n",
              "      <th>3</th>\n",
              "      <td>Photo</td>\n",
              "      <td>https://scontent-ort2-1.cdninstagram.com/v/t51...</td>\n",
              "      <td>The hunt is over. Introducing the #Silverado #...</td>\n",
              "      <td>54522</td>\n",
              "      <td>489</td>\n",
              "      <td>['Realtree', 'Silverado']</td>\n",
              "      <td>2020-01-22 18:29</td>\n",
              "      <td>55011</td>\n",
              "      <td>3000000</td>\n",
              "      <td>0.018337</td>\n",
              "    </tr>\n",
              "    <tr>\n",
              "      <th>4</th>\n",
              "      <td>Video</td>\n",
              "      <td>https://scontent-ort2-1.cdninstagram.com/v/t51...</td>\n",
              "      <td>There’s no hiding it. Your phone background sa...</td>\n",
              "      <td>15845</td>\n",
              "      <td>74</td>\n",
              "      <td>['Silverado']</td>\n",
              "      <td>2020-01-21 19:19</td>\n",
              "      <td>15919</td>\n",
              "      <td>3000000</td>\n",
              "      <td>0.005306</td>\n",
              "    </tr>\n",
              "    <tr>\n",
              "      <th>...</th>\n",
              "      <td>...</td>\n",
              "      <td>...</td>\n",
              "      <td>...</td>\n",
              "      <td>...</td>\n",
              "      <td>...</td>\n",
              "      <td>...</td>\n",
              "      <td>...</td>\n",
              "      <td>...</td>\n",
              "      <td>...</td>\n",
              "      <td>...</td>\n",
              "    </tr>\n",
              "    <tr>\n",
              "      <th>195</th>\n",
              "      <td>Video</td>\n",
              "      <td>https://scontent-ort2-1.cdninstagram.com/v/t51...</td>\n",
              "      <td>Tis the season. The #Chevy employee discount i...</td>\n",
              "      <td>7026</td>\n",
              "      <td>26</td>\n",
              "      <td>['Chevy']</td>\n",
              "      <td>2017-12-11 16:45</td>\n",
              "      <td>7052</td>\n",
              "      <td>3000000</td>\n",
              "      <td>0.002351</td>\n",
              "    </tr>\n",
              "    <tr>\n",
              "      <th>196</th>\n",
              "      <td>Photo</td>\n",
              "      <td>https://scontent-ort2-1.cdninstagram.com/v/t51...</td>\n",
              "      <td>Make the most of the last few days of fall. Th...</td>\n",
              "      <td>45541</td>\n",
              "      <td>152</td>\n",
              "      <td>['ChevyColorado']</td>\n",
              "      <td>2017-12-08 17:48</td>\n",
              "      <td>45693</td>\n",
              "      <td>3000000</td>\n",
              "      <td>0.015231</td>\n",
              "    </tr>\n",
              "    <tr>\n",
              "      <th>197</th>\n",
              "      <td>Photo</td>\n",
              "      <td>https://scontent-ort2-1.cdninstagram.com/v/t51...</td>\n",
              "      <td>Toys aren't just for kids anymore. #Chevy #Camaro</td>\n",
              "      <td>42852</td>\n",
              "      <td>133</td>\n",
              "      <td>['Camaro', 'Chevy']</td>\n",
              "      <td>2017-12-07 16:09</td>\n",
              "      <td>42985</td>\n",
              "      <td>3000000</td>\n",
              "      <td>0.014328</td>\n",
              "    </tr>\n",
              "    <tr>\n",
              "      <th>198</th>\n",
              "      <td>Photo</td>\n",
              "      <td>https://scontent-ort2-1.cdninstagram.com/v/t51...</td>\n",
              "      <td>Something to look forward to every day of the ...</td>\n",
              "      <td>27429</td>\n",
              "      <td>144</td>\n",
              "      <td>['CruzeHatch', 'Chevy']</td>\n",
              "      <td>2017-12-05 16:55</td>\n",
              "      <td>27573</td>\n",
              "      <td>3000000</td>\n",
              "      <td>0.009191</td>\n",
              "    </tr>\n",
              "    <tr>\n",
              "      <th>199</th>\n",
              "      <td>Photo</td>\n",
              "      <td>https://scontent-ort2-1.cdninstagram.com/v/t51...</td>\n",
              "      <td>Set the slow cooker for the longest setting, w...</td>\n",
              "      <td>13437</td>\n",
              "      <td>49</td>\n",
              "      <td>['ChevyEquinox']</td>\n",
              "      <td>2017-11-29 16:43</td>\n",
              "      <td>13486</td>\n",
              "      <td>3000000</td>\n",
              "      <td>0.004495</td>\n",
              "    </tr>\n",
              "  </tbody>\n",
              "</table>\n",
              "<p>200 rows × 10 columns</p>\n",
              "</div>"
            ],
            "text/plain": [
              "    is_video  ...  Eng Rate\n",
              "0      Photo  ...  0.008711\n",
              "1      Photo  ...  0.018006\n",
              "2      Photo  ...  0.013680\n",
              "3      Photo  ...  0.018337\n",
              "4      Video  ...  0.005306\n",
              "..       ...  ...       ...\n",
              "195    Video  ...  0.002351\n",
              "196    Photo  ...  0.015231\n",
              "197    Photo  ...  0.014328\n",
              "198    Photo  ...  0.009191\n",
              "199    Photo  ...  0.004495\n",
              "\n",
              "[200 rows x 10 columns]"
            ]
          },
          "metadata": {
            "tags": []
          },
          "execution_count": 88
        }
      ]
    },
    {
      "cell_type": "markdown",
      "metadata": {
        "id": "6x4p6emioXuo",
        "colab_type": "text"
      },
      "source": [
        "Chevrolet Engagement Rate"
      ]
    },
    {
      "cell_type": "code",
      "metadata": {
        "id": "tqv77-sKkzQm",
        "colab_type": "code",
        "colab": {
          "base_uri": "https://localhost:8080/",
          "height": 34
        },
        "outputId": "0f383a7c-c069-4091-a7e1-d1e490278059"
      },
      "source": [
        "ChevyEngRate = df3['Eng Rate'].mean()\n",
        "ChevyEngRate * 100"
      ],
      "execution_count": null,
      "outputs": [
        {
          "output_type": "execute_result",
          "data": {
            "text/plain": [
              "1.0770338333333336"
            ]
          },
          "metadata": {
            "tags": []
          },
          "execution_count": 102
        }
      ]
    },
    {
      "cell_type": "markdown",
      "metadata": {
        "id": "1gM7JG3_V1j2",
        "colab_type": "text"
      },
      "source": [
        "FORD"
      ]
    },
    {
      "cell_type": "code",
      "metadata": {
        "id": "fZa8AMYMV3sG",
        "colab_type": "code",
        "colab": {
          "resources": {
            "http://localhost:8080/nbextensions/google.colab/files.js": {
              "data": "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",
              "ok": true,
              "headers": [
                [
                  "content-type",
                  "application/javascript"
                ]
              ],
              "status": 200,
              "status_text": ""
            }
          },
          "base_uri": "https://localhost:8080/",
          "height": 71
        },
        "outputId": "25939ab0-942f-4ba4-c777-b0232c58f3d6"
      },
      "source": [
        "from google.colab import files\n",
        "uploaded = files.upload()"
      ],
      "execution_count": null,
      "outputs": [
        {
          "output_type": "display_data",
          "data": {
            "text/html": [
              "\n",
              "     <input type=\"file\" id=\"files-4c8e4ab7-df76-407c-bab5-c8722cfb7628\" name=\"files[]\" multiple disabled />\n",
              "     <output id=\"result-4c8e4ab7-df76-407c-bab5-c8722cfb7628\">\n",
              "      Upload widget is only available when the cell has been executed in the\n",
              "      current browser session. Please rerun this cell to enable.\n",
              "      </output>\n",
              "      <script src=\"/nbextensions/google.colab/files.js\"></script> "
            ],
            "text/plain": [
              "<IPython.core.display.HTML object>"
            ]
          },
          "metadata": {
            "tags": []
          }
        },
        {
          "output_type": "stream",
          "text": [
            "Saving ford.csv to ford (1).csv\n"
          ],
          "name": "stdout"
        }
      ]
    },
    {
      "cell_type": "code",
      "metadata": {
        "id": "xuWqBOWgV84z",
        "colab_type": "code",
        "colab": {
          "base_uri": "https://localhost:8080/",
          "height": 306
        },
        "outputId": "8e1ba491-3eb0-4a57-a3b1-502b728cc1be"
      },
      "source": [
        "import pandas as pd\n",
        "import io\n",
        "\n",
        "df4 = pd.read_csv(io.StringIO(uploaded['ford.csv'].decode('utf-8')))\n",
        "df4.head()"
      ],
      "execution_count": null,
      "outputs": [
        {
          "output_type": "execute_result",
          "data": {
            "text/html": [
              "<div>\n",
              "<style scoped>\n",
              "    .dataframe tbody tr th:only-of-type {\n",
              "        vertical-align: middle;\n",
              "    }\n",
              "\n",
              "    .dataframe tbody tr th {\n",
              "        vertical-align: top;\n",
              "    }\n",
              "\n",
              "    .dataframe thead th {\n",
              "        text-align: right;\n",
              "    }\n",
              "</style>\n",
              "<table border=\"1\" class=\"dataframe\">\n",
              "  <thead>\n",
              "    <tr style=\"text-align: right;\">\n",
              "      <th></th>\n",
              "      <th>is_video</th>\n",
              "      <th>display_url</th>\n",
              "      <th>caption</th>\n",
              "      <th>like count</th>\n",
              "      <th>comment count</th>\n",
              "      <th>tags</th>\n",
              "      <th>time</th>\n",
              "    </tr>\n",
              "  </thead>\n",
              "  <tbody>\n",
              "    <tr>\n",
              "      <th>0</th>\n",
              "      <td>Photo</td>\n",
              "      <td>https://scontent-ort2-1.cdninstagram.com/v/t51...</td>\n",
              "      <td>Keeping it chill.\\n.\\n📸: @cassianzanewycz\\n.\\n...</td>\n",
              "      <td>68313</td>\n",
              "      <td>401</td>\n",
              "      <td>['BuiltFordTough', 'Raptor', 'FordTrucks', 'Fo...</td>\n",
              "      <td>2020-02-17 14:30</td>\n",
              "    </tr>\n",
              "    <tr>\n",
              "      <th>1</th>\n",
              "      <td>Photo</td>\n",
              "      <td>https://scontent-ort2-1.cdninstagram.com/v/t51...</td>\n",
              "      <td>It’s a draw. They’re both our good side.\\n∙\\n#...</td>\n",
              "      <td>42039</td>\n",
              "      <td>277</td>\n",
              "      <td>['FordExplorer', 'Ford', 'SUV']</td>\n",
              "      <td>2020-02-13 17:31</td>\n",
              "    </tr>\n",
              "    <tr>\n",
              "      <th>2</th>\n",
              "      <td>Photo</td>\n",
              "      <td>https://scontent-ort2-1.cdninstagram.com/v/t51...</td>\n",
              "      <td>Vroooooooooooom.\\n.\\nProfessional driver. Clos...</td>\n",
              "      <td>100552</td>\n",
              "      <td>629</td>\n",
              "      <td>['FordMustang', 'Ford', 'GT500TrackTour', 'She...</td>\n",
              "      <td>2020-02-07 17:00</td>\n",
              "    </tr>\n",
              "    <tr>\n",
              "      <th>3</th>\n",
              "      <td>Photo</td>\n",
              "      <td>https://scontent-ort2-1.cdninstagram.com/v/t51...</td>\n",
              "      <td>ⓛⓘⓠⓤⓘⓓ ⓒⓐⓡⓑⓞⓝ\\n∙\\nOn top of the newly availabl...</td>\n",
              "      <td>148320</td>\n",
              "      <td>1486</td>\n",
              "      <td>['FordPerformance', 'Ford', 'FordGT']</td>\n",
              "      <td>2020-02-06 16:54</td>\n",
              "    </tr>\n",
              "    <tr>\n",
              "      <th>4</th>\n",
              "      <td>Photo</td>\n",
              "      <td>https://scontent-ort2-1.cdninstagram.com/v/t51...</td>\n",
              "      <td>Anyone else dreaming of some ☀️right about now...</td>\n",
              "      <td>40084</td>\n",
              "      <td>284</td>\n",
              "      <td>['WinterBlues', 'FordExplorer', 'Ford']</td>\n",
              "      <td>2020-02-05 17:00</td>\n",
              "    </tr>\n",
              "  </tbody>\n",
              "</table>\n",
              "</div>"
            ],
            "text/plain": [
              "  is_video  ...              time\n",
              "0    Photo  ...  2020-02-17 14:30\n",
              "1    Photo  ...  2020-02-13 17:31\n",
              "2    Photo  ...  2020-02-07 17:00\n",
              "3    Photo  ...  2020-02-06 16:54\n",
              "4    Photo  ...  2020-02-05 17:00\n",
              "\n",
              "[5 rows x 7 columns]"
            ]
          },
          "metadata": {
            "tags": []
          },
          "execution_count": 91
        }
      ]
    },
    {
      "cell_type": "code",
      "metadata": {
        "id": "6vvcBWGilW7A",
        "colab_type": "code",
        "colab": {
          "base_uri": "https://localhost:8080/",
          "height": 606
        },
        "outputId": "dcdf06c1-8d6b-4f16-981c-c69cb627ef9b"
      },
      "source": [
        "df4['total engagement'] = df4['like count']+df4['comment count']\n",
        "df4['total followers'] = 3900000\n",
        "df4['Eng Rate'] = df4['total engagement']/df4['total followers']\n",
        "df4"
      ],
      "execution_count": null,
      "outputs": [
        {
          "output_type": "execute_result",
          "data": {
            "text/html": [
              "<div>\n",
              "<style scoped>\n",
              "    .dataframe tbody tr th:only-of-type {\n",
              "        vertical-align: middle;\n",
              "    }\n",
              "\n",
              "    .dataframe tbody tr th {\n",
              "        vertical-align: top;\n",
              "    }\n",
              "\n",
              "    .dataframe thead th {\n",
              "        text-align: right;\n",
              "    }\n",
              "</style>\n",
              "<table border=\"1\" class=\"dataframe\">\n",
              "  <thead>\n",
              "    <tr style=\"text-align: right;\">\n",
              "      <th></th>\n",
              "      <th>is_video</th>\n",
              "      <th>display_url</th>\n",
              "      <th>caption</th>\n",
              "      <th>like count</th>\n",
              "      <th>comment count</th>\n",
              "      <th>tags</th>\n",
              "      <th>time</th>\n",
              "      <th>total engagement</th>\n",
              "      <th>total followers</th>\n",
              "      <th>Eng Rate</th>\n",
              "    </tr>\n",
              "  </thead>\n",
              "  <tbody>\n",
              "    <tr>\n",
              "      <th>0</th>\n",
              "      <td>Photo</td>\n",
              "      <td>https://scontent-ort2-1.cdninstagram.com/v/t51...</td>\n",
              "      <td>Keeping it chill.\\n.\\n📸: @cassianzanewycz\\n.\\n...</td>\n",
              "      <td>68313</td>\n",
              "      <td>401</td>\n",
              "      <td>['BuiltFordTough', 'Raptor', 'FordTrucks', 'Fo...</td>\n",
              "      <td>2020-02-17 14:30</td>\n",
              "      <td>68714</td>\n",
              "      <td>3900000</td>\n",
              "      <td>0.017619</td>\n",
              "    </tr>\n",
              "    <tr>\n",
              "      <th>1</th>\n",
              "      <td>Photo</td>\n",
              "      <td>https://scontent-ort2-1.cdninstagram.com/v/t51...</td>\n",
              "      <td>It’s a draw. They’re both our good side.\\n∙\\n#...</td>\n",
              "      <td>42039</td>\n",
              "      <td>277</td>\n",
              "      <td>['FordExplorer', 'Ford', 'SUV']</td>\n",
              "      <td>2020-02-13 17:31</td>\n",
              "      <td>42316</td>\n",
              "      <td>3900000</td>\n",
              "      <td>0.010850</td>\n",
              "    </tr>\n",
              "    <tr>\n",
              "      <th>2</th>\n",
              "      <td>Photo</td>\n",
              "      <td>https://scontent-ort2-1.cdninstagram.com/v/t51...</td>\n",
              "      <td>Vroooooooooooom.\\n.\\nProfessional driver. Clos...</td>\n",
              "      <td>100552</td>\n",
              "      <td>629</td>\n",
              "      <td>['FordMustang', 'Ford', 'GT500TrackTour', 'She...</td>\n",
              "      <td>2020-02-07 17:00</td>\n",
              "      <td>101181</td>\n",
              "      <td>3900000</td>\n",
              "      <td>0.025944</td>\n",
              "    </tr>\n",
              "    <tr>\n",
              "      <th>3</th>\n",
              "      <td>Photo</td>\n",
              "      <td>https://scontent-ort2-1.cdninstagram.com/v/t51...</td>\n",
              "      <td>ⓛⓘⓠⓤⓘⓓ ⓒⓐⓡⓑⓞⓝ\\n∙\\nOn top of the newly availabl...</td>\n",
              "      <td>148320</td>\n",
              "      <td>1486</td>\n",
              "      <td>['FordPerformance', 'Ford', 'FordGT']</td>\n",
              "      <td>2020-02-06 16:54</td>\n",
              "      <td>149806</td>\n",
              "      <td>3900000</td>\n",
              "      <td>0.038412</td>\n",
              "    </tr>\n",
              "    <tr>\n",
              "      <th>4</th>\n",
              "      <td>Photo</td>\n",
              "      <td>https://scontent-ort2-1.cdninstagram.com/v/t51...</td>\n",
              "      <td>Anyone else dreaming of some ☀️right about now...</td>\n",
              "      <td>40084</td>\n",
              "      <td>284</td>\n",
              "      <td>['WinterBlues', 'FordExplorer', 'Ford']</td>\n",
              "      <td>2020-02-05 17:00</td>\n",
              "      <td>40368</td>\n",
              "      <td>3900000</td>\n",
              "      <td>0.010351</td>\n",
              "    </tr>\n",
              "    <tr>\n",
              "      <th>...</th>\n",
              "      <td>...</td>\n",
              "      <td>...</td>\n",
              "      <td>...</td>\n",
              "      <td>...</td>\n",
              "      <td>...</td>\n",
              "      <td>...</td>\n",
              "      <td>...</td>\n",
              "      <td>...</td>\n",
              "      <td>...</td>\n",
              "      <td>...</td>\n",
              "    </tr>\n",
              "    <tr>\n",
              "      <th>195</th>\n",
              "      <td>Photo</td>\n",
              "      <td>https://scontent-ort2-1.cdninstagram.com/v/t51...</td>\n",
              "      <td>(4/5) \"Out there somewhere is a sunset made ju...</td>\n",
              "      <td>28667</td>\n",
              "      <td>45</td>\n",
              "      <td>['BFGoodrich', 'Sunset', 'DieselTruck', 'Truck...</td>\n",
              "      <td>2017-03-07 23:04</td>\n",
              "      <td>28712</td>\n",
              "      <td>3900000</td>\n",
              "      <td>0.007362</td>\n",
              "    </tr>\n",
              "    <tr>\n",
              "      <th>196</th>\n",
              "      <td>Photo</td>\n",
              "      <td>https://scontent-ort2-1.cdninstagram.com/v/t51...</td>\n",
              "      <td>(3/5) \"Why not two? There's no better way to f...</td>\n",
              "      <td>20561</td>\n",
              "      <td>31</td>\n",
              "      <td>['BFGoodrich', 'DieselTruck', 'Powerstroke', '...</td>\n",
              "      <td>2017-03-07 20:01</td>\n",
              "      <td>20592</td>\n",
              "      <td>3900000</td>\n",
              "      <td>0.005280</td>\n",
              "    </tr>\n",
              "    <tr>\n",
              "      <th>197</th>\n",
              "      <td>Photo</td>\n",
              "      <td>https://scontent-ort2-1.cdninstagram.com/v/t51...</td>\n",
              "      <td>(2/5) It's never been about being common place...</td>\n",
              "      <td>16727</td>\n",
              "      <td>32</td>\n",
              "      <td>['BFGoodrich', 'DieselTruck', 'Powerstroke', '...</td>\n",
              "      <td>2017-03-07 17:11</td>\n",
              "      <td>16759</td>\n",
              "      <td>3900000</td>\n",
              "      <td>0.004297</td>\n",
              "    </tr>\n",
              "    <tr>\n",
              "      <th>198</th>\n",
              "      <td>Photo</td>\n",
              "      <td>https://scontent-ort2-1.cdninstagram.com/v/t51...</td>\n",
              "      <td>(1/5) Ascension…the act of rising to a higher ...</td>\n",
              "      <td>46887</td>\n",
              "      <td>182</td>\n",
              "      <td>['BFGoodrich', 'DieselTruck', 'Powerstroke', '...</td>\n",
              "      <td>2017-03-07 14:03</td>\n",
              "      <td>47069</td>\n",
              "      <td>3900000</td>\n",
              "      <td>0.012069</td>\n",
              "    </tr>\n",
              "    <tr>\n",
              "      <th>199</th>\n",
              "      <td>Photo</td>\n",
              "      <td>https://scontent-ort2-1.cdninstagram.com/v/t51...</td>\n",
              "      <td>How many babies do you think were named after ...</td>\n",
              "      <td>52227</td>\n",
              "      <td>250</td>\n",
              "      <td>['MustangNation', 'Mustang', 'MustangMonday', ...</td>\n",
              "      <td>2017-03-06 18:30</td>\n",
              "      <td>52477</td>\n",
              "      <td>3900000</td>\n",
              "      <td>0.013456</td>\n",
              "    </tr>\n",
              "  </tbody>\n",
              "</table>\n",
              "<p>200 rows × 10 columns</p>\n",
              "</div>"
            ],
            "text/plain": [
              "    is_video  ...  Eng Rate\n",
              "0      Photo  ...  0.017619\n",
              "1      Photo  ...  0.010850\n",
              "2      Photo  ...  0.025944\n",
              "3      Photo  ...  0.038412\n",
              "4      Photo  ...  0.010351\n",
              "..       ...  ...       ...\n",
              "195    Photo  ...  0.007362\n",
              "196    Photo  ...  0.005280\n",
              "197    Photo  ...  0.004297\n",
              "198    Photo  ...  0.012069\n",
              "199    Photo  ...  0.013456\n",
              "\n",
              "[200 rows x 10 columns]"
            ]
          },
          "metadata": {
            "tags": []
          },
          "execution_count": 92
        }
      ]
    },
    {
      "cell_type": "markdown",
      "metadata": {
        "id": "dP3PwOHzoaOC",
        "colab_type": "text"
      },
      "source": [
        "Ford Engagement Rate"
      ]
    },
    {
      "cell_type": "code",
      "metadata": {
        "id": "-4yPOQ_TlgXc",
        "colab_type": "code",
        "colab": {
          "base_uri": "https://localhost:8080/",
          "height": 34
        },
        "outputId": "e221ff62-5e10-4df9-e869-58b29fc16133"
      },
      "source": [
        "FordEngRate = df4['Eng Rate'].mean()\n",
        "FordEngRate * 100"
      ],
      "execution_count": null,
      "outputs": [
        {
          "output_type": "execute_result",
          "data": {
            "text/plain": [
              "1.36037705128205"
            ]
          },
          "metadata": {
            "tags": []
          },
          "execution_count": 96
        }
      ]
    }
  ]
}